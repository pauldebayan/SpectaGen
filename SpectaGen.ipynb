{
  "cells": [
    {
      "cell_type": "markdown",
      "metadata": {
        "id": "view-in-github",
        "colab_type": "text"
      },
      "source": [
        "<a href=\"https://colab.research.google.com/github/pauldebayan/SpectaGen/blob/main/SpectaGen.ipynb\" target=\"_parent\"><img src=\"https://colab.research.google.com/assets/colab-badge.svg\" alt=\"Open In Colab\"/></a>"
      ]
    },
    {
      "cell_type": "code",
      "execution_count": null,
      "metadata": {
        "id": "N2NkdssJ-JcM"
      },
      "outputs": [],
      "source": [
        "from torchvision.io import read_image\n",
        "import matplotlib.pyplot as plt\n",
        "import torchvision\n",
        "import torch\n",
        "from torch import nn\n",
        "import os\n",
        "import pandas as pd\n",
        "import torchvision.transforms as transforms\n",
        "from torch.utils.data import Dataset\n",
        "from torch.utils.data import DataLoader\n",
        "import torch.nn as nn"
      ]
    },
    {
      "cell_type": "code",
      "execution_count": null,
      "metadata": {
        "id": "EDewm-h_JVlu"
      },
      "outputs": [],
      "source": [
        "!wget https://raw.githubusercontent.com/pauldebayan/SpectaGen/refs/heads/main/labels.csv\n",
        "!wget https://github.com/pauldebayan/SpectaGen/raw/refs/heads/main/spectacle_dataset.zip\n",
        "!unzip spectacle_dataset.zip"
      ]
    },
    {
      "cell_type": "code",
      "execution_count": null,
      "metadata": {
        "id": "pcUJSQCL-JcO"
      },
      "outputs": [],
      "source": [
        "!ls"
      ]
    },
    {
      "cell_type": "code",
      "execution_count": null,
      "metadata": {
        "id": "JpZs6XY5-JcP"
      },
      "outputs": [],
      "source": [
        "def ImagesToDelete():\n",
        "    # To check all the images is of same shape\n",
        "    channel, height, width = 3, 256, 512\n",
        "\n",
        "    imagesToDelete = []\n",
        "\n",
        "    for i in range(1000):\n",
        "        img = read_image(f'./spectacle_dataset/specs{(i+1)}.jpg')\n",
        "\n",
        "        if(img.shape[0] != 3 or img.shape[1] != 256 or img.shape[2] != 512):\n",
        "            imagesToDelete.append(f'specs{(i+1)}.jpg')\n",
        "\n",
        "    # We need to delete this images as they do not have the desired shape - [3, 256, 512]\n",
        "    return imagesToDelete\n",
        "\n",
        "print(ImagesToDelete())\n"
      ]
    },
    {
      "cell_type": "code",
      "source": [
        "# Check if GPU is available and move model to GPU\n",
        "device = torch.device('cuda' if torch.cuda.is_available() else 'cpu')\n",
        "\n",
        "print(device)"
      ],
      "metadata": {
        "id": "pGTTACkOAr-T"
      },
      "execution_count": null,
      "outputs": []
    },
    {
      "cell_type": "code",
      "execution_count": null,
      "metadata": {
        "id": "eV2xJXhf_PTh"
      },
      "outputs": [],
      "source": [
        "class Discriminator(nn.Module):\n",
        "    def __init__(self):\n",
        "        super().__init__()\n",
        "\n",
        "        self.conv1 = nn.Conv2d(3, 20, 2)\n",
        "        self.conv2 = nn.Conv2d(20, 10, 2)\n",
        "        self.conv3 = nn.Conv2d(10, 10, 2)\n",
        "\n",
        "        self.activ = nn.LeakyReLU()\n",
        "        self.pool = nn.MaxPool2d(2, 2)\n",
        "        self.dropout = nn.Dropout(0.25)\n",
        "\n",
        "        self.linear_stack = nn.Sequential(\n",
        "            nn.Linear(19530, 2000),\n",
        "            nn.LeakyReLU(),\n",
        "            nn.Linear(2000,800),\n",
        "            nn.LeakyReLU(),\n",
        "            nn.Linear(800,400),\n",
        "            nn.LeakyReLU(),\n",
        "            nn.Linear(400, 1),\n",
        "            nn.Sigmoid()\n",
        "        )\n",
        "\n",
        "    def forward(self, x):\n",
        "\n",
        "        x = self.pool(self.activ(self.conv1(x)))\n",
        "        x = self.pool(self.activ(self.conv2(x)))\n",
        "        x = self.pool(self.activ(self.conv3(x)))\n",
        "        x = self.dropout(x)\n",
        "        x = x.view(x.size(0), -1)\n",
        "\n",
        "        x = self.linear_stack(x)\n",
        "\n",
        "        #return x.shape\n",
        "        return x\n"
      ]
    },
    {
      "cell_type": "code",
      "execution_count": null,
      "metadata": {
        "id": "1glKvArc_PTj"
      },
      "outputs": [],
      "source": [
        "class Genearator(nn.Module):\n",
        "\n",
        "    def __init__(self):\n",
        "        super().__init__()\n",
        "\n",
        "\n",
        "        self.gen_sequence = nn.Sequential(\n",
        "            nn.ConvTranspose2d(64, 512, 3, stride=2),\n",
        "            nn.BatchNorm2d(512),\n",
        "            nn.LeakyReLU(),\n",
        "\n",
        "            nn.ConvTranspose2d(512, 256, 4, stride=2),\n",
        "            nn.BatchNorm2d(256),\n",
        "            nn.LeakyReLU(),\n",
        "\n",
        "            nn.ConvTranspose2d(256, 128, 4, stride=1),\n",
        "            nn.BatchNorm2d(128),\n",
        "            nn.LeakyReLU(),\n",
        "\n",
        "            nn.ConvTranspose2d(128, 3, 4, stride=2),\n",
        "            nn.Tanh()\n",
        "        )\n",
        "\n",
        "\n",
        "    def forward(self, x):\n",
        "\n",
        "        x = x.view(1, 64, 30, 62)\n",
        "        #print(f'x.view(-1, 8, 8) shape: {x}')\n",
        "\n",
        "        x = self.gen_sequence(x)\n",
        "        return x\n"
      ]
    },
    {
      "cell_type": "code",
      "execution_count": null,
      "metadata": {
        "id": "vWl6kD___PTl"
      },
      "outputs": [],
      "source": [
        "generator = Genearator()\n",
        "generator = generator.to(device)\n",
        "discriminator = Discriminator()\n",
        "discriminator = discriminator.to(device)\n",
        "\n",
        "print(discriminator)\n",
        "print(generator)"
      ]
    },
    {
      "cell_type": "code",
      "execution_count": null,
      "metadata": {
        "id": "UMt2lmRi_PTn"
      },
      "outputs": [],
      "source": [
        "# To get the input of the linear layer in Discriminator\n",
        "\n",
        "img = read_image('./spectacle_dataset/specs1.jpg')\n",
        "print(img.shape)\n",
        "# print(discriminator(img.float()))\n",
        "# 19530"
      ]
    },
    {
      "cell_type": "code",
      "execution_count": null,
      "metadata": {
        "id": "Um7wNCmm_PTo"
      },
      "outputs": [],
      "source": [
        "def generateNoise():\n",
        "    noise = torch.randn(1, 119040)\n",
        "    return noise\n",
        "\n",
        "# Conv2d: (N-K+1)/S\n",
        "# ConvTranspose2d: (N-1)*S+K"
      ]
    },
    {
      "cell_type": "code",
      "execution_count": null,
      "metadata": {
        "id": "9h1RHhhY_PTp"
      },
      "outputs": [],
      "source": [
        "noise = generateNoise()\n",
        "noise = noise.to(device)\n",
        "img = generator(noise)\n",
        "\n",
        "img = img.to(device)\n",
        "\n",
        "print(img.shape)\n",
        "plt.imshow(img.cpu().squeeze().detach().permute(1, 2, 0))\n",
        "\n",
        "print(f\"Fake image shape: {img.shape}\")\n"
      ]
    },
    {
      "cell_type": "code",
      "execution_count": null,
      "metadata": {
        "id": "xPTFCNcj_PTq"
      },
      "outputs": [],
      "source": [
        "# Real Images - set dataloader\n",
        "class SpectDataset(Dataset):\n",
        "    def __init__(self, annotations_file, img_dir, transform=None, target_transform=None):\n",
        "        self.img_labels = pd.read_csv(annotations_file)\n",
        "        self.img_dir = img_dir\n",
        "        self.transform = transform\n",
        "        self.target_transform = target_transform\n",
        "\n",
        "    def __len__(self):\n",
        "        return len(self.img_labels)\n",
        "\n",
        "    def __getitem__(self, idx):\n",
        "        img_path = os.path.join(self.img_dir, self.img_labels.iloc[idx, 0])\n",
        "        image = read_image(img_path)\n",
        "        label = self.img_labels.iloc[idx, 1]\n",
        "        if self.transform:\n",
        "            image = self.transform(image)\n",
        "        if self.target_transform:\n",
        "            label = self.target_transform(label)\n",
        "\n",
        "        return image, label\n"
      ]
    },
    {
      "cell_type": "code",
      "execution_count": null,
      "metadata": {
        "id": "T5rr3BsX_PTr"
      },
      "outputs": [],
      "source": [
        "transform = transforms.Compose([\n",
        "    transforms.ToPILImage(),\n",
        "    transforms.ToTensor()\n",
        "])\n",
        "\n",
        "dataset = SpectDataset(img_dir = 'spectacle_dataset',\n",
        "                             annotations_file = 'labels.csv',\n",
        "                             transform = transform)\n",
        "\n",
        "batch_size = 3\n",
        "dl = DataLoader(dataset, batch_size=batch_size, shuffle=True)"
      ]
    },
    {
      "cell_type": "code",
      "execution_count": null,
      "metadata": {
        "id": "jLZfl0i-_PTs"
      },
      "outputs": [],
      "source": [
        "epochs = 10000000\n",
        "lr = 0.0001"
      ]
    },
    {
      "cell_type": "code",
      "execution_count": null,
      "metadata": {
        "id": "rNyRzod5_PTs"
      },
      "outputs": [],
      "source": [
        "loss_fn = nn.BCELoss()\n",
        "optimizer_G = torch.optim.Adam(generator.parameters(), lr=lr)\n",
        "optimizer_D = torch.optim.Adam(discriminator.parameters(), lr=lr)"
      ]
    },
    {
      "cell_type": "code",
      "execution_count": null,
      "metadata": {
        "id": "ABNQ0htE_PTs"
      },
      "outputs": [],
      "source": [
        "# Implementing GANs\n",
        "\n",
        "for epoch in range(epochs):\n",
        "\n",
        "\n",
        "    for real_img, real_label in dl:\n",
        "\n",
        "        real_img = real_img.to(device)\n",
        "        real_label = torch.tensor(1).float().to(device)\n",
        "\n",
        "        noise = generateNoise().to(device)\n",
        "        fake_img = generator(noise).to(device)\n",
        "        fake_label = torch.tensor(0).float().to(device)\n",
        "\n",
        "\n",
        "        #Generator\n",
        "        optimizer_G.zero_grad()\n",
        "        loss_G = loss_fn(discriminator(fake_img).squeeze(), real_label)\n",
        "        loss_G.backward()\n",
        "        optimizer_G.step()\n",
        "\n",
        "\n",
        "        #Discriminator\n",
        "        optimizer_D.zero_grad()\n",
        "        fake_loss = loss_fn(discriminator(fake_img.detach()).squeeze(), fake_label)\n",
        "        real_loss = loss_fn(discriminator(real_img).mean().squeeze(), real_label)\n",
        "        loss_D = (fake_loss+real_loss)/2\n",
        "        loss_D.backward()\n",
        "        optimizer_D.step()\n",
        "\n",
        "        gen_loss = loss_G.item()\n",
        "        dis_loss = loss_D.item()\n",
        "\n",
        "\n",
        "    if ((epoch+1)%10) == 0:\n",
        "        noise = generateNoise()\n",
        "        noise = noise.to(device)\n",
        "        fake_img = generator(noise)\n",
        "        fake_img = fake_img.to(device)\n",
        "        torchvision.utils.save_image(fake_img, 'generated.jpg')\n",
        "        plt.imshow(fake_img.cpu().squeeze().detach().permute(1, 2, 0))\n",
        "        plt.show()\n",
        "        torch.save(generator.state_dict(), 'model.pt')\n",
        "\n",
        "    if int(gen_loss) > 100:\n",
        "        break\n",
        "\n",
        "    print(f\"Epoch{epoch+1}: Discriminator Loss: {dis_loss}, Generator Loss: {gen_loss}\")\n"
      ]
    }
  ],
  "metadata": {
    "colab": {
      "provenance": [],
      "gpuType": "T4",
      "include_colab_link": true
    },
    "kernelspec": {
      "display_name": "Python 3",
      "name": "python3"
    },
    "language_info": {
      "codemirror_mode": {
        "name": "ipython",
        "version": 3
      },
      "file_extension": ".py",
      "mimetype": "text/x-python",
      "name": "python",
      "nbconvert_exporter": "python",
      "pygments_lexer": "ipython3",
      "version": "3.8.10"
    },
    "accelerator": "GPU"
  },
  "nbformat": 4,
  "nbformat_minor": 0
}