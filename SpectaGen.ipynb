{
  "cells": [
    {
      "cell_type": "markdown",
      "id": "f21d023c",
      "metadata": {
        "colab_type": "text",
        "id": "view-in-github"
      },
      "source": [
        "<a href=\"https://colab.research.google.com/github/pauldebayan/SpectaGen/blob/main/SpectaGen.ipynb\" target=\"_parent\"><img src=\"https://colab.research.google.com/assets/colab-badge.svg\" alt=\"Open In Colab\"/></a>"
      ]
    },
    {
      "cell_type": "code",
      "execution_count": 1,
      "id": "33580d80",
      "metadata": {
        "id": "33580d80"
      },
      "outputs": [],
      "source": [
        "# from google.colab import drive\n",
        "# drive.mount('/content/drive')"
      ]
    },
    {
      "cell_type": "code",
      "execution_count": null,
      "id": "8f66445c-d883-440c-a8de-a4815438f483",
      "metadata": {
        "id": "8f66445c-d883-440c-a8de-a4815438f483",
        "tags": []
      },
      "outputs": [],
      "source": [
        "!wget https://raw.githubusercontent.com/pauldebayan/SpectaGen/refs/heads/main/labels.csv\n",
        "!wget https://github.com/pauldebayan/SpectaGen/raw/refs/heads/main/spectacle_dataset.zip\n",
        "!unzip spectacle_dataset.zip"
      ]
    },
    {
      "cell_type": "code",
      "execution_count": 1,
      "id": "5e3920d6-851a-463c-aa73-e0db0661b045",
      "metadata": {
        "id": "5e3920d6-851a-463c-aa73-e0db0661b045",
        "tags": []
      },
      "outputs": [],
      "source": [
        "from torchvision.io import read_image\n",
        "import matplotlib.pyplot as plt\n",
        "import torchvision\n",
        "import torch\n",
        "from torch import nn\n",
        "import os\n",
        "import pandas as pd\n",
        "import torchvision.transforms as transforms\n",
        "from torch.utils.data import Dataset\n",
        "from torch.utils.data import DataLoader\n",
        "import torch.nn as nn"
      ]
    },
    {
      "cell_type": "code",
      "execution_count": null,
      "id": "5d06f688-010d-46d0-9fa3-4b002eb8a47b",
      "metadata": {
        "id": "5d06f688-010d-46d0-9fa3-4b002eb8a47b",
        "tags": []
      },
      "outputs": [],
      "source": [
        "# Check if GPU is available and move model to GPU\n",
        "device = torch.device('cuda' if torch.cuda.is_available() else 'cpu')\n",
        "\n",
        "print(device)"
      ]
    },
    {
      "cell_type": "code",
      "execution_count": 3,
      "id": "b89f7250-cd7b-4451-b9cb-53b81be6c3d6",
      "metadata": {
        "id": "b89f7250-cd7b-4451-b9cb-53b81be6c3d6",
        "tags": []
      },
      "outputs": [],
      "source": [
        "class Discriminator(nn.Module):\n",
        "    def __init__(self):\n",
        "        super().__init__()\n",
        "\n",
        "        self.conv1 = nn.Conv2d(3, 20, 2)\n",
        "        self.conv2 = nn.Conv2d(20, 10, 2)\n",
        "        self.conv3 = nn.Conv2d(10, 10, 2)\n",
        "\n",
        "        self.activ = nn.LeakyReLU()\n",
        "        self.pool = nn.MaxPool2d(2, 2)\n",
        "        self.dropout = nn.Dropout(0.25)\n",
        "\n",
        "        self.linear_stack = nn.Sequential(\n",
        "            nn.Linear(39690, 512),\n",
        "            nn.LeakyReLU(),\n",
        "            nn.Linear(512,256),\n",
        "            nn.LeakyReLU(),\n",
        "            nn.Linear(256,64),\n",
        "            nn.LeakyReLU(),\n",
        "            nn.Linear(64, 1),\n",
        "            nn.Sigmoid()\n",
        "        )\n",
        "\n",
        "    def forward(self, x):\n",
        "\n",
        "        x = self.pool(self.activ(self.conv1(x)))\n",
        "        x = self.pool(self.activ(self.conv2(x)))\n",
        "        x = self.pool(self.activ(self.conv3(x)))\n",
        "        x = self.dropout(x)\n",
        "\n",
        "        x = x.view(x.size(0), -1)\n",
        "        x = self.linear_stack(x)\n",
        "        return x\n",
        "\n",
        "        #return x.shape"
      ]
    },
    {
      "cell_type": "code",
      "execution_count": 4,
      "id": "0b24aa5c-a106-48f9-bdcf-48ccd7fc690d",
      "metadata": {
        "id": "0b24aa5c-a106-48f9-bdcf-48ccd7fc690d",
        "tags": []
      },
      "outputs": [],
      "source": [
        "class Genearator(nn.Module):\n",
        "\n",
        "    def __init__(self):\n",
        "        super().__init__()\n",
        "\n",
        "        self.gen_sequence = nn.Sequential(\n",
        "\n",
        "            nn.ConvTranspose2d(128, 512, 3, stride=3),\n",
        "            nn.BatchNorm2d(512),\n",
        "            nn.LeakyReLU(),\n",
        "\n",
        "            nn.ConvTranspose2d(512, 256, 5, stride=2),\n",
        "            nn.BatchNorm2d(256),\n",
        "            nn.LeakyReLU(),\n",
        "\n",
        "            nn.ConvTranspose2d(256, 256, 3, stride=2),\n",
        "            nn.BatchNorm2d(256),\n",
        "            nn.LeakyReLU(),\n",
        "\n",
        "            nn.ConvTranspose2d(256, 256, 3, stride=2),\n",
        "            nn.BatchNorm2d(256),\n",
        "            nn.LeakyReLU(),\n",
        "\n",
        "            nn.ConvTranspose2d(256, 128, 4, stride=2),\n",
        "            nn.BatchNorm2d(128),\n",
        "            nn.LeakyReLU(),\n",
        "\n",
        "            nn.ConvTranspose2d(128, 3, 4, stride=4),\n",
        "            nn.Tanh()\n",
        "        )\n",
        "\n",
        "\n",
        "    def forward(self, x):\n",
        "        x = x.view(-1, 128, 2, 2)  # [batch_size, channels, height, width]\n",
        "        x = self.gen_sequence(x)\n",
        "        return x"
      ]
    },
    {
      "cell_type": "code",
      "execution_count": null,
      "id": "1198f0f6-0bc0-43c1-9b6e-6ad32a265d69",
      "metadata": {
        "id": "1198f0f6-0bc0-43c1-9b6e-6ad32a265d69",
        "tags": []
      },
      "outputs": [],
      "source": [
        "generator = Genearator()\n",
        "generator = generator.to(device)\n",
        "discriminator = Discriminator()\n",
        "discriminator = discriminator.to(device)\n",
        "\n",
        "print(discriminator)\n",
        "print(generator)"
      ]
    },
    {
      "cell_type": "code",
      "execution_count": 6,
      "id": "074f609e-bb2d-443d-bcd2-c3af025f4b37",
      "metadata": {
        "id": "074f609e-bb2d-443d-bcd2-c3af025f4b37",
        "tags": []
      },
      "outputs": [],
      "source": [
        "# generator.load_state_dict(torch.load('generator.pt'))\n",
        "#discriminator.load_state_dict(torch.load('discriminator.pt'))"
      ]
    },
    {
      "cell_type": "code",
      "execution_count": null,
      "id": "57648597-a30c-4cae-8193-7b44d7acc800",
      "metadata": {
        "id": "57648597-a30c-4cae-8193-7b44d7acc800",
        "tags": []
      },
      "outputs": [],
      "source": [
        "# To get the input of the linear layer in Discriminator\n",
        "\n",
        "img = read_image('./spectacle_dataset/specs1.jpg')\n",
        "print(img.shape)\n",
        "print(discriminator(img.to(device).float()))\n",
        "#39690\n",
        "#Will cause error because of batch size"
      ]
    },
    {
      "cell_type": "code",
      "execution_count": 9,
      "id": "9501821d-ea8f-4b34-9bdf-2321d2c5968b",
      "metadata": {
        "id": "9501821d-ea8f-4b34-9bdf-2321d2c5968b",
        "tags": []
      },
      "outputs": [],
      "source": [
        "def generateNoise():\n",
        "    noise = torch.randn(1, 512)\n",
        "    return noise\n",
        "\n",
        "# Conv2d: (N-K+1)/S\n",
        "# ConvTranspose2d: (N-1)*S+K"
      ]
    },
    {
      "cell_type": "code",
      "execution_count": null,
      "id": "40c1bbac-0a1e-40e0-8a24-9198f5b34219",
      "metadata": {
        "id": "40c1bbac-0a1e-40e0-8a24-9198f5b34219",
        "tags": []
      },
      "outputs": [],
      "source": [
        "noise = generateNoise()\n",
        "noise = noise.to(device)\n",
        "\n",
        "img = generator(noise)\n",
        "img = img.to(device)\n",
        "\n",
        "print(img.shape)\n",
        "plt.imshow(img.cpu().squeeze().detach().permute(1, 2, 0))\n",
        "\n",
        "print(f\"Fake image shape: {img.shape}\")"
      ]
    },
    {
      "cell_type": "code",
      "execution_count": 7,
      "id": "1986d037-60f9-4af6-85af-c45614b079fb",
      "metadata": {
        "id": "1986d037-60f9-4af6-85af-c45614b079fb",
        "tags": []
      },
      "outputs": [],
      "source": [
        "# Real Images - set dataloader\n",
        "class SpectDataset(Dataset):\n",
        "    def __init__(self, annotations_file, img_dir, transform=None, target_transform=None):\n",
        "        self.img_labels = pd.read_csv(annotations_file)\n",
        "        self.img_dir = img_dir\n",
        "        self.transform = transform\n",
        "        self.target_transform = target_transform\n",
        "\n",
        "    def __len__(self):\n",
        "        return len(self.img_labels)\n",
        "\n",
        "    def __getitem__(self, idx):\n",
        "        img_path = os.path.join(self.img_dir, self.img_labels.iloc[idx, 0])\n",
        "        image = read_image(img_path)\n",
        "        label = self.img_labels.iloc[idx, 1]\n",
        "        if self.transform:\n",
        "            image = self.transform(image)\n",
        "        if self.target_transform:\n",
        "            label = self.target_transform(label)\n",
        "\n",
        "        return image, label"
      ]
    },
    {
      "cell_type": "code",
      "execution_count": null,
      "id": "fa3b4ed6-913f-4d84-be4a-14743710e433",
      "metadata": {
        "id": "fa3b4ed6-913f-4d84-be4a-14743710e433",
        "tags": []
      },
      "outputs": [],
      "source": [
        "transform = transforms.Compose([\n",
        "    transforms.ToPILImage(),\n",
        "    transforms.ToTensor()\n",
        "])\n",
        "\n",
        "dataset = SpectDataset(img_dir = 'spectacle_dataset',\n",
        "                             annotations_file = 'labels.csv',\n",
        "                             transform = transform)\n",
        "\n",
        "batch_size = 6\n",
        "dl = DataLoader(dataset, batch_size=batch_size, shuffle=True)"
      ]
    },
    {
      "cell_type": "code",
      "execution_count": 12,
      "id": "b667b32e-90d9-42b9-b5ff-456fbc04f522",
      "metadata": {
        "id": "b667b32e-90d9-42b9-b5ff-456fbc04f522",
        "tags": []
      },
      "outputs": [],
      "source": [
        "epochs = 10000000\n",
        "lr = 0.0001"
      ]
    },
    {
      "cell_type": "code",
      "execution_count": 13,
      "id": "bf456faa-52b1-4d01-873f-58b6de6756cc",
      "metadata": {
        "id": "bf456faa-52b1-4d01-873f-58b6de6756cc",
        "tags": []
      },
      "outputs": [],
      "source": [
        "loss_fn = nn.BCELoss()\n",
        "optimizer_G = torch.optim.Adam(generator.parameters(), lr=lr)\n",
        "optimizer_D = torch.optim.Adam(discriminator.parameters(), lr=lr)"
      ]
    },
    {
      "cell_type": "code",
      "execution_count": null,
      "id": "6b9016b5-ef57-44d5-a4e3-76482df7fe0a",
      "metadata": {
        "id": "6b9016b5-ef57-44d5-a4e3-76482df7fe0a",
        "tags": []
      },
      "outputs": [],
      "source": [
        "# Implementing GANs\n",
        "\n",
        "for epoch in range(epochs):\n",
        "\n",
        "\n",
        "\n",
        "    batch_counter = 1\n",
        "    dis_loss_max = 0\n",
        "    gen_loss_min = 100\n",
        "\n",
        "    for real_img, real_label in dl:\n",
        "\n",
        "        real_img = real_img.to(device)\n",
        "        real_label = torch.tensor(1).float().to(device)\n",
        "\n",
        "        noise = generateNoise().to(device)\n",
        "        fake_img = generator(noise).to(device)\n",
        "        fake_label = torch.tensor(0).float().to(device)\n",
        "\n",
        "\n",
        "        #Generator\n",
        "        optimizer_G.zero_grad()\n",
        "        loss_G = loss_fn(discriminator(fake_img).squeeze(), real_label)\n",
        "        loss_G.backward()\n",
        "        optimizer_G.step()\n",
        "\n",
        "\n",
        "        #Discriminator\n",
        "        optimizer_D.zero_grad()\n",
        "        fake_loss = loss_fn(discriminator(fake_img.detach()).squeeze(), fake_label)\n",
        "        real_loss = loss_fn(discriminator(real_img).mean().squeeze(), real_label)\n",
        "        loss_D = (fake_loss+real_loss)/2\n",
        "        loss_D.backward()\n",
        "        optimizer_D.step()\n",
        "\n",
        "        gen_loss = loss_G.item()\n",
        "        dis_loss = loss_D.item()\n",
        "\n",
        "        if (gen_loss < gen_loss_min):\n",
        "            gen_loss_min = gen_loss\n",
        "\n",
        "        if (dis_loss > dis_loss_max):\n",
        "            dis_loss_max = dis_loss\n",
        "\n",
        "        print(f\"Epoch{epoch+1} Batch{batch_counter}: Discriminator Loss: {dis_loss}, Max: {dis_loss_max}, Generator Loss: {gen_loss}, Min: {gen_loss_min}\")\n",
        "        batch_counter += 1\n",
        "\n",
        "\n",
        "    if ((epoch+1)%1) == 0:\n",
        "        noise = generateNoise()\n",
        "        noise = noise.to(device)\n",
        "        fake_img = generator(noise)\n",
        "        fake_img = fake_img.to(device)\n",
        "        torchvision.utils.save_image(fake_img, 'generated.jpg')\n",
        "        plt.imshow(fake_img.cpu().squeeze().detach().permute(1, 2, 0))\n",
        "        plt.show()\n",
        "        torch.save(generator.state_dict(), 'generator.pt')\n",
        "        torch.save(discriminator.state_dict(), 'discriminator.pt')\n",
        "        #playsound('epoch10.mp3')\n",
        "\n",
        "    if gen_loss > 100:\n",
        "        break"
      ]
    },
    {
      "cell_type": "markdown",
      "id": "726c18a9",
      "metadata": {
        "id": "726c18a9"
      },
      "source": [
        "### Convert to ONNX"
      ]
    },
    {
      "cell_type": "code",
      "execution_count": null,
      "id": "2072dedf",
      "metadata": {},
      "outputs": [],
      "source": [
        "# Will work for CPU as well\n",
        "state_dict = torch.load('generator.pt', map_location=device, weights_only=True)\n",
        "generator.load_state_dict(state_dict)"
      ]
    },
    {
      "cell_type": "code",
      "execution_count": 35,
      "id": "eeaf2fdd",
      "metadata": {
        "id": "eeaf2fdd"
      },
      "outputs": [],
      "source": [
        "noise = torch.randn(1, 512).to(device)\n",
        "\n",
        "out = generator(noise)\n",
        "torch.onnx.export(generator, noise, \"generator.onnx\", input_names=['input'])"
      ]
    }
  ],
  "metadata": {
    "accelerator": "GPU",
    "colab": {
      "gpuType": "T4",
      "include_colab_link": true,
      "provenance": []
    },
    "kernelspec": {
      "display_name": "PytorchEnv",
      "language": "python",
      "name": "python3"
    },
    "language_info": {
      "codemirror_mode": {
        "name": "ipython",
        "version": 3
      },
      "file_extension": ".py",
      "mimetype": "text/x-python",
      "name": "python",
      "nbconvert_exporter": "python",
      "pygments_lexer": "ipython3",
      "version": "3.8.10"
    }
  },
  "nbformat": 4,
  "nbformat_minor": 5
}
