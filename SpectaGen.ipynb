{
  "cells": [
    {
      "cell_type": "markdown",
      "metadata": {
        "id": "view-in-github",
        "colab_type": "text"
      },
      "source": [
        "<a href=\"https://colab.research.google.com/github/pauldebayan/SpectaGen/blob/main/SpectaGen.ipynb\" target=\"_parent\"><img src=\"https://colab.research.google.com/assets/colab-badge.svg\" alt=\"Open In Colab\"/></a>"
      ]
    },
    {
      "cell_type": "code",
      "execution_count": null,
      "metadata": {
        "id": "N2NkdssJ-JcM"
      },
      "outputs": [],
      "source": [
        "from torchvision.io import read_image\n",
        "import matplotlib.pyplot as plt\n",
        "import torchvision\n",
        "import torch\n",
        "from torch import nn\n",
        "import os\n",
        "import pandas as pd\n",
        "import torchvision.transforms as transforms\n",
        "from torch.utils.data import Dataset\n",
        "from torch.utils.data import DataLoader\n",
        "import torch.nn as nn"
      ]
    },
    {
      "cell_type": "code",
      "source": [
        "!wget https://github.com/pauldebayan/SpectaGen/raw/refs/heads/main/spectacle_dataset.zip\n",
        "!unzip spectacle_dataset.zip"
      ],
      "metadata": {
        "id": "EDewm-h_JVlu"
      },
      "execution_count": null,
      "outputs": []
    },
    {
      "cell_type": "code",
      "execution_count": 8,
      "metadata": {
        "colab": {
          "base_uri": "https://localhost:8080/"
        },
        "id": "pcUJSQCL-JcO",
        "outputId": "4fe93e72-cb1f-4444-96f5-c132289b805c"
      },
      "outputs": [
        {
          "output_type": "stream",
          "name": "stdout",
          "text": [
            "sample_data  spectacle_dataset\tspectacle_dataset.zip\n"
          ]
        }
      ],
      "source": [
        "!ls"
      ]
    },
    {
      "cell_type": "code",
      "execution_count": 9,
      "metadata": {
        "colab": {
          "base_uri": "https://localhost:8080/"
        },
        "id": "JpZs6XY5-JcP",
        "outputId": "bd0bfddd-bf4d-4ea5-e85e-fac361b9ecd2"
      },
      "outputs": [
        {
          "output_type": "stream",
          "name": "stdout",
          "text": [
            "[]\n"
          ]
        }
      ],
      "source": [
        "def ImagesToDelete():\n",
        "    # To check all the images is of same shape\n",
        "    channel, height, width = 3, 256, 512\n",
        "\n",
        "    imagesToDelete = []\n",
        "\n",
        "    for i in range(1000):\n",
        "        img = read_image(f'./spectacle_dataset/specs{(i+1)}.jpg')\n",
        "\n",
        "        if(img.shape[0] != 3 or img.shape[1] != 256 or img.shape[2] != 512):\n",
        "            imagesToDelete.append(f'specs{(i+1)}.jpg')\n",
        "\n",
        "    # We need to delete this images as they do not have the desired shape - [3, 256, 512]\n",
        "    return imagesToDelete\n",
        "\n",
        "print(ImagesToDelete())\n"
      ]
    }
  ],
  "metadata": {
    "kernelspec": {
      "display_name": "PytorchEnv",
      "language": "python",
      "name": "python3"
    },
    "language_info": {
      "codemirror_mode": {
        "name": "ipython",
        "version": 3
      },
      "file_extension": ".py",
      "mimetype": "text/x-python",
      "name": "python",
      "nbconvert_exporter": "python",
      "pygments_lexer": "ipython3",
      "version": "3.8.10"
    },
    "colab": {
      "provenance": [],
      "include_colab_link": true
    }
  },
  "nbformat": 4,
  "nbformat_minor": 0
}